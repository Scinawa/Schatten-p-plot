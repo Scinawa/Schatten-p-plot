{
 "cells": [
  {
   "cell_type": "code",
   "execution_count": 62,
   "metadata": {},
   "outputs": [],
   "source": [
    "import numpy as np\n",
    "import pandas as pd\n",
    "import numpy as np\n",
    "\n",
    "rho_values = {}\n"
   ]
  },
  {
   "cell_type": "code",
   "execution_count": 63,
   "metadata": {},
   "outputs": [],
   "source": [
    "# def compute_schatten_p_norm(s, p):\n",
    "\n",
    "#     schatten_p_norm = np.power(np.sum(np.power(np.abs(s), p)), 1/p)\n",
    "    \n",
    "#     return schatten_p_norm\n",
    "\n",
    "# def compute_rho(A, p):\n",
    "#     norm_A = np.linalg.norm(A)\n",
    "#     rho = (np.sqrt(2) * norm_A) ** (p / 2) / np.linalg.norm(A, ord=p) ** (p / 2)\n",
    "#     return rho"
   ]
  },
  {
   "cell_type": "code",
   "execution_count": 64,
   "metadata": {},
   "outputs": [],
   "source": [
    "def loadMNIST( prefix, folder ):\n",
    "    intType = np.dtype( 'int32' ).newbyteorder( '>' )\n",
    "    nMetaDataBytes = 4 * intType.itemsize\n",
    "\n",
    "    data = np.fromfile( folder + \"/\" + prefix + '-images.idx3-ubyte', dtype = 'ubyte' )\n",
    "    magicBytes, nImages, width, height = np.frombuffer( data[:nMetaDataBytes].tobytes(), intType )\n",
    "    data = data[nMetaDataBytes:].astype( dtype = 'float32' ).reshape( [ nImages, width, height ] )\n",
    "\n",
    "    #labels = np.fromfile( folder + \"/\" + prefix + '-labels-idx1-ubyte',\n",
    "    #                    #  dtype = 'ubyte' )[2 * intType.itemsize:]\n",
    "\n",
    "    return data #, labels\n",
    "\n",
    "trainingImages  = loadMNIST( \"train\", \"/Users/scinawa/workspace/Schatten-p-plot/\" )\n",
    "\n",
    "\n",
    "# Extract the features (X) and labels (y)\n",
    "rho_values['MNIST'] = [trainingImages]\n",
    "\n",
    "# Print the shape of the dataset\n",
    "#print(\"Shape of X:\", Z.shape)\n"
   ]
  },
  {
   "cell_type": "code",
   "execution_count": 65,
   "metadata": {},
   "outputs": [],
   "source": [
    "\n",
    "\n",
    "PATH_UCI_DATASET = \"bank_note_data.csv\"\n",
    "rho_values['BankNote'] = [pd.read_csv(PATH_UCI_DATASET, header = 0, sep = \",\").to_numpy()]"
   ]
  },
  {
   "cell_type": "code",
   "execution_count": 66,
   "metadata": {},
   "outputs": [],
   "source": [
    "# import pandas as pd\n",
    "# import numpy as np\n",
    "\n",
    "# PATH_UCI_DATASET = \"bank-full.csv\"\n",
    "# C = pd.read_csv(PATH_UCI_DATASET, header = 0, sep = \",\").to_numpy()"
   ]
  },
  {
   "cell_type": "code",
   "execution_count": 67,
   "metadata": {},
   "outputs": [
    {
     "name": "stdout",
     "output_type": "stream",
     "text": [
      "Matrix MNIST\n"
     ]
    },
    {
     "name": "stderr",
     "output_type": "stream",
     "text": [
      "/var/folders/cd/x29qw_lj0yzf26xq_q6rzr3r0000gn/T/ipykernel_37220/2004353612.py:23: RuntimeWarning: overflow encountered in power\n",
      "  return (np.sqrt(2) * norm_A) ** (p / 2) / np.power(np.sum(np.power(np.abs(s), p)), 1/p) ** (p / 2)\n",
      "/Users/scinawa/miniforge3/envs/sage310/lib/python3.10/site-packages/numpy/core/fromnumeric.py:86: RuntimeWarning: overflow encountered in reduce\n",
      "  return ufunc.reduce(obj, axis, dtype, out, **passkwargs)\n"
     ]
    },
    {
     "name": "stdout",
     "output_type": "stream",
     "text": [
      "Matrix BankNote\n"
     ]
    }
   ],
   "source": [
    "import numpy as np\n",
    "import matplotlib.pyplot as plt\n",
    "\n",
    "# Define the list of matrices\n",
    "#matrices = [Z, B] # A3, A4]  # Replace A1, A2, A3, A4 with your actual matrices\n",
    "\n",
    "# Define the values of p\n",
    "p_values =[p for p in range(1, 30)]\n",
    " # Adjust the range and number of points as needed\n",
    "\n",
    "# Calculate the value of ρ for each matrix and p\n",
    "\n",
    "for matelm in rho_values:\n",
    "    print(\"Matrix\", matelm)\n",
    "    _, s, _ = np.linalg.svd(rho_values[matelm][:100])\n",
    "\n",
    "    norm_A = np.linalg.norm(rho_values[matelm][:100])\n",
    "\n",
    "    # $\\rho=\\frac{(\\sqrt{2}\\|A\\|)^{p/2}}{\\|A\\|_p^{p/2}}$\n",
    "    # rho = (np.sqrt(2) * norm_A) ** (p / 2) / np.power(np.sum(np.power(np.abs(s), p)), 1/p) ** (p / 2)\n",
    "        \n",
    "    def valuez(s,p):\n",
    "        return (np.sqrt(2) * norm_A) ** (p / 2) / np.power(np.sum(np.power(np.abs(s), p)), 1/p) ** (p / 2)\n",
    "\n",
    "    rho_values[matelm].append([valuez(s, p) for p in p_values])\n",
    "\n",
    "\n"
   ]
  },
  {
   "cell_type": "code",
   "execution_count": 68,
   "metadata": {},
   "outputs": [
    {
     "data": {
      "image/png": "[encoded data removed]",
      "text/plain": [
       "<Figure size 640x480 with 1 Axes>"
      ]
     },
     "metadata": {},
     "output_type": "display_data"
    }
   ],
   "source": [
    "\n",
    "# Plot the values of ρ on a linear-log scale\n",
    "for matelm in rho_values:\n",
    "    #print(rho[0])\n",
    "    plt.plot(p_values, rho_values[matelm][1], label=matelm)\n",
    "    \n",
    "plt.plot(p_values, [np.sqrt(2)**(p/2) for p in p_values], label='Bound')\n",
    "\n",
    "plt.xlabel('p')\n",
    "plt.ylabel('ρ')\n",
    "plt.xscale('linear')\n",
    "plt.legend()\n",
    "plt.yscale('log')\n",
    "plt.title('Value of ρ on a linear-log scale')\n",
    "plt.show()"
   ]
  },
  {
   "cell_type": "code",
   "execution_count": 69,
   "metadata": {},
   "outputs": [
    {
     "name": "stdout",
     "output_type": "stream",
     "text": [
      "ρ = 1.4173809615704656\n"
     ]
    }
   ],
   "source": [
    "import numpy as np\n",
    "\n",
    "\n",
    "\n",
    "# Example usage\n",
    "A = np.array([[1, 2], [3, 4]])\n",
    "p = 2\n",
    "rho = compute_rho(A, p)\n",
    "print(\"ρ =\", rho)\n"
   ]
  }
 ],
 "metadata": {
  "kernelspec": {
   "display_name": "sage310",
   "language": "python",
   "name": "python3"
  },
  "language_info": {
   "codemirror_mode": {
    "name": "ipython",
    "version": 3
   },
   "file_extension": ".py",
   "mimetype": "text/x-python",
   "name": "python",
   "nbconvert_exporter": "python",
   "pygments_lexer": "ipython3",
   "version": "3.10.5"
  }
 },
 "nbformat": 4,
 "nbformat_minor": 2
}
